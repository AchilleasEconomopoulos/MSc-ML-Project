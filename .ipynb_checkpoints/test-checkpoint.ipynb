{
 "cells": [
  {
   "cell_type": "code",
   "execution_count": null,
   "id": "417eebea-15bb-4af7-b15e-362174fe5e18",
   "metadata": {},
   "outputs": [],
   "source": [
    "from sklearn.feature_extraction.text import TfidfVectorizer\n",
    "from sklearn.naive_bayes import MultinomialNB\n",
    "import numpy as np\n",
    "import sys\n",
    "# Training data\n"
   ]
  },
  {
   "cell_type": "code",
   "execution_count": null,
   "id": "03e903ff-b5e8-4f14-975d-ade717097d67",
   "metadata": {},
   "outputs": [],
   "source": [
    "texts = [\n",
    "    \"feeling very nervous and worried\",\n",
    "    \"my heart is racing constantly\",\n",
    "    \"going to the park today\",\n",
    "    \"watching a movie with friends\",\n",
    "    \"can't stop thinking about problems\",\n",
    "    \"enjoyed the sunny weather\"\n",
    "]\n",
    "# Labels: 1 for anxiety, 0 for non-anxiety\n",
    "labels = np.array([1, 1, 0, 0, 1, 0])\n",
    "# Transform text to TF-IDF features\n",
    "vectorizer = TfidfVectorizer()\n",
    "X = vectorizer.fit_transform(texts)\n",
    "# print(\"TF-IDF Matrix:\")\n",
    "# print(X.toarray()[0].shape)\n",
    "# print(labels[0])\n",
    "# print(\"\\nVocabulary:\")\n",
    "# print(vectorizer.vocabulary_)\n",
    "# sys.exit()\n",
    "# Train Naive Bayes\n",
    "clf = MultinomialNB()\n",
    "clf.fit(X, labels)\n"
   ]
  },
  {
   "cell_type": "code",
   "execution_count": null,
   "id": "8d38aadf-3036-4c3e-a739-79d4e061c22d",
   "metadata": {},
   "outputs": [],
   "source": [
    "# Test examples\n",
    "test_texts = [\n",
    "    \"feeling anxious about presentation\",\n",
    "    \"had lunch at the cafe\",\n",
    "    \"I want to eat shit\"\n",
    "]\n",
    "X_test = vectorizer.transform(test_texts)\n",
    "predictions = clf.predict(X_test)\n",
    "probabilities = clf.predict_proba(X_test)\n",
    "print(\"Predictions:\", predictions)\n",
    "print(\"Probabilities:\", probabilities)"
   ]
  }
 ],
 "metadata": {
  "kernelspec": {
   "display_name": "Python 3 (ipykernel)",
   "language": "python",
   "name": "python3"
  },
  "language_info": {
   "codemirror_mode": {
    "name": "ipython",
    "version": 3
   },
   "file_extension": ".py",
   "mimetype": "text/x-python",
   "name": "python",
   "nbconvert_exporter": "python",
   "pygments_lexer": "ipython3",
   "version": "3.10.12"
  }
 },
 "nbformat": 4,
 "nbformat_minor": 5
}
